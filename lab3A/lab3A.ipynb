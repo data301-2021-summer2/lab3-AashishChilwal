{
 "cells": [
  {
   "cell_type": "markdown",
   "metadata": {},
   "source": [
    "# Lab 3A: Python Fundamentals \n",
    "\n",
    "In this lab you will be working on python basics.\n",
    "\n",
    "**This lab must be completed individually.**\n",
    "\n",
    "Where provided, try your best to match the **Sample Output** as best as you can.\n",
    "\n",
    "## Accept the lab\n",
    "\n",
    "To accept this lab on GitHub Classroom, go to `Canvas` --> `Course Content` --> `Lab Links and Solutions`."
   ]
  },
  {
   "cell_type": "markdown",
   "metadata": {},
   "source": [
    "## Objectives\n",
    "\n",
    "In this lab you will:\n",
    "\n",
    "1. Practice creating and using Python functions.\n",
    "2. Practice using Python to work with directories and files.\n",
    "3. Practice working with vectors and the numpy package.\n",
    "4. Practice working with Dictionaries and Lists.\n",
    "5. Practice creating a pandas data frame from a dictionary."
   ]
  },
  {
   "cell_type": "code",
   "execution_count": 3,
   "metadata": {},
   "outputs": [],
   "source": [
    "# Add your import commands here\n"
   ]
  },
  {
   "cell_type": "markdown",
   "metadata": {},
   "source": [
    "## Task 1: Creating Functions (3 marks)\n",
    "\n",
    "In your projects, you may need to create your own functions to do some complex calculations (beyond mean, median etc...). In this question you will write a function to find the roots of a quadratic equation.\n",
    "\n",
    "To refresh your memory from high school math, a quadratic function looks like this:\n",
    "\n",
    "<img src=\"images/quadratic.png\" width=\"500px\">\n",
    "\n",
    "Given the standard form of a quadratic equation, $ax^2 + bx + c = 0$ where *a, b, c* are known real numbers and $a\\neq0$, the quadratic formula to find unknown $x$ is:\n",
    "$$x=\\frac{-b ± \\sqrt{b^2-4ac}}{2a}$$\n",
    "\n",
    "Write a python function that calculates and prints all possible real (i.e. non-complex) answers for $x$. \n",
    "\n",
    "Check your function by running it on some test data points:\n",
    "\n",
    "- `solution(1,1,1)`,\n",
    "- `solution(1,0,-4)`,\n",
    "- `solution(1,2,1)`. \n",
    "\n",
    "#### Sample Output\n",
    ">--> For a=1, b=1, and c=1:<br>\n",
    ">The equation does not have any real solution<br>\n",
    ">--> For a=1, b=0, and c=-4:<br>\n",
    ">x1 = 2.0 and x2 = -2.0<br>\n",
    ">--> For a=1, b=2, and c=1:<br>\n",
    ">x = -1.0<br>"
   ]
  },
  {
   "cell_type": "code",
   "execution_count": null,
   "metadata": {},
   "outputs": [],
   "source": [
    "def solution(a, b, c):\n",
    "    # Your solution here"
   ]
  },
  {
   "cell_type": "code",
   "execution_count": null,
   "metadata": {},
   "outputs": [],
   "source": [
    "solution(1,1,1)"
   ]
  },
  {
   "cell_type": "code",
   "execution_count": null,
   "metadata": {},
   "outputs": [],
   "source": [
    "solution(1,0,-4)"
   ]
  },
  {
   "cell_type": "code",
   "execution_count": null,
   "metadata": {},
   "outputs": [],
   "source": [
    "solution(1,2,1)"
   ]
  },
  {
   "cell_type": "markdown",
   "metadata": {},
   "source": [
    "## Task 2: Functions (Total: 6 marks)\n",
    "\n",
    "Remember in a previous lab, you used the *tree* command to show a map of all directories and files within a directory. \n",
    "In this section, we want to make a similar program, but using python instead. "
   ]
  },
  {
   "cell_type": "markdown",
   "metadata": {},
   "source": [
    "### 2.1: `ListFiles()` (2 marks): \n",
    "\n",
    "**Task: Your task is to create a python function called `ListFiles()` that takes in a directory path and then finds and print all the files (not directories) in a given directory (relative to `./`).**\n",
    "\n",
    "We suggest you use the [`listdir()` function](https://docs.python.org/3/library/os.html#os.listdir) and `isfile()` functions from the `os` module.\n",
    "\n",
    "In your GitHub repository, there is a folder called `directory_list` which contains some sample files. \n",
    "\n",
    "*Hint 1: don't forget to first `import os` to use `os.listdir()` and `os.path.isfile()`.*\n",
    "\n",
    "*Hint 2: You can see the following tutorials if you need some extra help or some worked examples: [link1](https://www.tutorialspoint.com/python/os_listdir.htm) and [link2](https://www.geeksforgeeks.org/python-os-path-isfile-method/)*.\n",
    "\n",
    "#### Sample Output\n",
    ">directory/file1.txt<br>\n",
    ">directory/file2.txt<br>\n",
    ">directory/file3.txt<br>\n",
    ">directory/file4.txt<br>"
   ]
  },
  {
   "cell_type": "code",
   "execution_count": 1,
   "metadata": {},
   "outputs": [
    {
     "ename": "SyntaxError",
     "evalue": "unexpected EOF while parsing (<ipython-input-1-3ebdd80ac7e9>, line 2)",
     "output_type": "error",
     "traceback": [
      "\u001b[0;36m  File \u001b[0;32m\"<ipython-input-1-3ebdd80ac7e9>\"\u001b[0;36m, line \u001b[0;32m2\u001b[0m\n\u001b[0;31m    # Your Solution here\u001b[0m\n\u001b[0m                        ^\u001b[0m\n\u001b[0;31mSyntaxError\u001b[0m\u001b[0;31m:\u001b[0m unexpected EOF while parsing\n"
     ]
    }
   ],
   "source": [
    "def ListFiles(address):\n",
    "    # Your Solution here"
   ]
  },
  {
   "cell_type": "code",
   "execution_count": 2,
   "metadata": {},
   "outputs": [
    {
     "ename": "NameError",
     "evalue": "name 'ListFiles' is not defined",
     "output_type": "error",
     "traceback": [
      "\u001b[0;31m---------------------------------------------------------------------------\u001b[0m",
      "\u001b[0;31mNameError\u001b[0m                                 Traceback (most recent call last)",
      "\u001b[0;32m<ipython-input-2-6a896d3fc113>\u001b[0m in \u001b[0;36m<module>\u001b[0;34m\u001b[0m\n\u001b[0;32m----> 1\u001b[0;31m \u001b[0mListFiles\u001b[0m\u001b[0;34m(\u001b[0m\u001b[0;34m\"directory_list\"\u001b[0m\u001b[0;34m)\u001b[0m\u001b[0;34m\u001b[0m\u001b[0;34m\u001b[0m\u001b[0m\n\u001b[0m",
      "\u001b[0;31mNameError\u001b[0m: name 'ListFiles' is not defined"
     ]
    }
   ],
   "source": [
    "ListFiles(\"directory_list\")"
   ]
  },
  {
   "cell_type": "markdown",
   "metadata": {},
   "source": [
    "### 2.2: `ListDirectories()` (2 marks): \n",
    "\n",
    "**Task: Use the `os.listdir()` and `os.path.isdir()` function to find and print all the directories (not files) in a given folder.\n",
    "Create a python function `ListDirectories(path)` that prints all the directories in that folder (and subfolders).\n",
    "You may also use the new [`pathlib`](https://realpython.com/python-pathlib/) package from Python if you like***\n",
    "\n",
    "#### Sample Output (order does not matter)\n",
    "> directory_list/dir2/ <br>\n",
    "> directory_list/dir4/ <br>\n",
    "> directory_list/dir3/ <br>\n",
    "> directory_list/dir1/ <br>"
   ]
  },
  {
   "cell_type": "code",
   "execution_count": null,
   "metadata": {},
   "outputs": [],
   "source": [
    "def ListDirectories(address):\n",
    "    # Your Solution here"
   ]
  },
  {
   "cell_type": "code",
   "execution_count": null,
   "metadata": {},
   "outputs": [],
   "source": [
    "ListDirectories(\"directory_list\")"
   ]
  },
  {
   "cell_type": "markdown",
   "metadata": {},
   "source": [
    "### 2.3: `tree()` (2 marks): \n",
    "\n",
    "**Task: Write a function `tree(path)` that prints a map of all directories AND files within a directory.**\n",
    "\n",
    "*Hint: you can use the functions you created above, or you may use the [`os.walk()`](https://www.tutorialspoint.com/python/os_walk.htm) function to complete this task (there are many ways to do it). Another option is to use [glob](https://www.geeksforgeeks.org/how-to-use-glob-function-to-find-files-recursively-in-python/).* You can explore multiple solutions if you like.\n",
    "\n",
    "#### Sample Output\n",
    "> directory_list/file1.txt <br>\n",
    "> directory_list/file2.txt <br>\n",
    "> directory_list/file3.txt <br>\n",
    "> directory_list/file4.txt <br>\n",
    "> directory_list/dir1/ <br>\n",
    "> directory_list/dir1/file24.txt <br>\n",
    "> directory_list/dir1/file23.txt <br>\n",
    "> directory_list/dir2/ <br>\n",
    "> directory_list/dir2/file34.txt <br>\n",
    "> directory_list/dir3/ <br>\n",
    "> directory_list/dir3/file110.txt <br>\n",
    "> directory_list/dir3/file140.txt <br>\n",
    "> directory_list/dir3/file130.txt <br>\n",
    "> directory_list/dir3/file120.txt <br>\n",
    "> directory_list/dir4/ <br>\n",
    "> directory_list/dir4/file11.txt <br>\n",
    "> directory_list/dir4/file12.txt <br>\n",
    "> directory_list/dir4/file13.txt <br>\n",
    "> directory_list/dir4/file14.txt <br>"
   ]
  },
  {
   "cell_type": "code",
   "execution_count": null,
   "metadata": {},
   "outputs": [],
   "source": [
    "def tree(path):\n",
    "    # Your Solution here"
   ]
  },
  {
   "cell_type": "code",
   "execution_count": null,
   "metadata": {},
   "outputs": [],
   "source": [
    "# Test your function\n",
    "tree(\"directory_list\")"
   ]
  },
  {
   "cell_type": "markdown",
   "metadata": {},
   "source": [
    "## Task 3: `numpy` (Total: 8 marks)\n",
    "\n",
    "In this section, we will practive using the `numpy` library.\n",
    "First, import the `numpy` library\n",
    "\n",
    "```\n",
    "import numpy as np\n",
    "```"
   ]
  },
  {
   "cell_type": "markdown",
   "metadata": {},
   "source": [
    "### 3.1: Create a vector (3 marks)\n",
    "\n",
    "**Task: Create an empty vector of size 10 filled with NaN.**\n",
    "\n",
    "*Hint: you need to use [`zeros()` method](https://numpy.org/doc/stable/reference/generated/numpy.zeros.html) or the [`empty()` method](https://numpy.org/doc/stable/reference/generated/numpy.empty.html?highlight=empty#numpy.empty)*"
   ]
  },
  {
   "cell_type": "code",
   "execution_count": null,
   "metadata": {},
   "outputs": [],
   "source": [
    "# Your Solution here"
   ]
  },
  {
   "cell_type": "markdown",
   "metadata": {},
   "source": [
    "### 3.2: Working with Vectors (2 marks)\n",
    "\n",
    "**Task: Create a random vector of size 10 and then find its mean, max, min, and sum value.**\n",
    "\n",
    "*Hint: for random vector you need to use `np.random.random()` and for the mean, max, min, sum you need to use build-in numpy methods `mean()`,`max()`,`min()`,`sum()`*.\n",
    "\n",
    "#### Sample output (Your numbers will be different)\n",
    "\n",
    ">[0.66698639 0.32937943 0.12074085 0.21788496 0.75628444 0.56461791\n",
    " 0.38162184 0.60966053 0.00491222 0.80007239]<br/>\n",
    ">The max is: 0.800<br/>\n",
    ">The min is: 0.005<br/>\n",
    ">The sum is: 4.452<br/>\n",
    ">The mean is: 0.445<br/>"
   ]
  },
  {
   "cell_type": "code",
   "execution_count": null,
   "metadata": {},
   "outputs": [],
   "source": [
    "# Your Solution here"
   ]
  },
  {
   "cell_type": "markdown",
   "metadata": {},
   "source": [
    "### 3.4: More vectors (3 marks)\n",
    "\n",
    "**Task: Using `numpy` Create a vector of size 15 which contains random values ranging from 10 to 90 and replace the minimum value with 100 and maximum value with 0. Print the mean, befor and after.**\n",
    "\n",
    "*Hint: you may need to use `argmax()` and `argmin()`. \n",
    "Documentation for that can be found [here](https://numpy.org/doc/stable/reference/generated/numpy.argmax.html).*\n",
    "\n",
    "\n",
    "##### Sample output\n",
    ">before: [20 27 10 63 57 71 50 18 76 56 38 62 10  9 12]<br>\n",
    ">mean: 38.6<br>\n",
    ">after: [ 20  27  10  63  57  71  50  18 100  56  38  62  10   9  12]<br>\n",
    ">mean: 40.2<br>"
   ]
  },
  {
   "cell_type": "code",
   "execution_count": null,
   "metadata": {},
   "outputs": [],
   "source": [
    "# Your Solution here"
   ]
  },
  {
   "cell_type": "markdown",
   "metadata": {},
   "source": [
    "## Task 4 - Dictionaries, Lists and data manapulation (10 marks)\n",
    "\n",
    "In this part we explore another fundamental data structure in python, called Dictionaries."
   ]
  },
  {
   "cell_type": "markdown",
   "metadata": {},
   "source": [
    "### 4.1: Create a dictionary that has 3 keys: name, age and salary, and enter in the following dummy information. (2 marks)\n",
    "\n",
    "#### Sample output\n",
    "> {'name': 'Tim Cook', 'age': 59, 'salary': 3000000.0}"
   ]
  },
  {
   "cell_type": "code",
   "execution_count": 9,
   "metadata": {},
   "outputs": [],
   "source": [
    "### Your solution here"
   ]
  },
  {
   "cell_type": "markdown",
   "metadata": {},
   "source": [
    "### 4.2: Create a second dictionary, this time with at least 5 different names, ages, and salaries. (2 marks)\n",
    "\n",
    "*Hint: There should only be three keys, and the values should be a list.*\n",
    "\n",
    "#### Sample Output\n",
    "\n",
    "> {'name': ['Tim Cook', 'Person 2', 'Person 3'],\n",
    "> 'age': [59, 24, 40],\n",
    "> 'salary': [30000000.0, 200000.0, 900000.0]}"
   ]
  },
  {
   "cell_type": "code",
   "execution_count": 6,
   "metadata": {},
   "outputs": [],
   "source": [
    "### Your solution here"
   ]
  },
  {
   "cell_type": "markdown",
   "metadata": {},
   "source": [
    "### 4.3: Create a pandas dataframe using the dictionary you created above (2 marks)\n",
    "\n",
    "**Hint: Use the `pd.DataFrame.from_dict()` method**\n",
    "\n",
    "#### Sample output\n",
    "![](images/df.png)"
   ]
  },
  {
   "cell_type": "code",
   "execution_count": 7,
   "metadata": {},
   "outputs": [],
   "source": [
    "### Your solution here"
   ]
  },
  {
   "cell_type": "markdown",
   "metadata": {},
   "source": [
    "### 4.4: Rename all three columns of the dataframe (4 mark)\n",
    "\n",
    "*Hint: you should use the pandas function [rename()](https://pandas.pydata.org/pandas-docs/stable/reference/api/pandas.DataFrame.rename.html) to accomplish this. You can rename it to whatever you like, just show us you are able to use this function*\n"
   ]
  },
  {
   "cell_type": "code",
   "execution_count": 13,
   "metadata": {},
   "outputs": [],
   "source": [
    "### Your solution here"
   ]
  }
 ],
 "metadata": {
  "interpreter": {
   "hash": "31f2aee4e71d21fbe5cf8b01ff0e069b9275f58929596ceb00d14d90e3e16cd6"
  },
  "kernelspec": {
   "display_name": "Python 3",
   "language": "python",
   "name": "python3"
  },
  "language_info": {
   "codemirror_mode": {
    "name": "ipython",
    "version": 3
   },
   "file_extension": ".py",
   "mimetype": "text/x-python",
   "name": "python",
   "nbconvert_exporter": "python",
   "pygments_lexer": "ipython3",
   "version": "3.8.3"
  },
  "nteract": {
   "version": "0.25.0"
  }
 },
 "nbformat": 4,
 "nbformat_minor": 4
}
